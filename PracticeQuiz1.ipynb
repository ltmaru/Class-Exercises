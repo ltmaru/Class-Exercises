{
  "nbformat": 4,
  "nbformat_minor": 0,
  "metadata": {
    "colab": {
      "provenance": [],
      "authorship_tag": "ABX9TyP9Ea1QhKyzy5mDEypMkkD0",
      "include_colab_link": true
    },
    "kernelspec": {
      "name": "python3",
      "display_name": "Python 3"
    },
    "language_info": {
      "name": "python"
    }
  },
  "cells": [
    {
      "cell_type": "markdown",
      "metadata": {
        "id": "view-in-github",
        "colab_type": "text"
      },
      "source": [
        "<a href=\"https://colab.research.google.com/github/ltmaru/Class-Exercises/blob/main/PracticeQuiz1.ipynb\" target=\"_parent\"><img src=\"https://colab.research.google.com/assets/colab-badge.svg\" alt=\"Open In Colab\"/></a>"
      ]
    },
    {
      "cell_type": "code",
      "execution_count": 9,
      "metadata": {
        "colab": {
          "base_uri": "https://localhost:8080/"
        },
        "id": "in96SiNtQR_h",
        "outputId": "edd3794e-f214-4672-854f-a9eecf084c0c"
      },
      "outputs": [
        {
          "output_type": "stream",
          "name": "stdout",
          "text": [
            "Enter the height of the rectangle: 1.4\n",
            "Enter the width of the rectangle: 5.6\n",
            "The perimeter of a rectangle with width 5.6 and height 1.4 is 14.0 and the area is 7.839999999999999\n"
          ]
        }
      ],
      "source": [
        "# Question 1\n",
        "# rectangle perimeter and area\n",
        "height = float(input('Enter the height of the rectangle: '))\n",
        "width = float(input('Enter the width of the rectangle: '))\n",
        "\n",
        "Perimeter = 2*(width+height)\n",
        "Area = width*height\n",
        "\n",
        "print('The perimeter of a rectangle with width', width, 'and height', height, 'is', Perimeter, 'and the area is', Area)\n"
      ]
    },
    {
      "cell_type": "code",
      "source": [
        "# Question 2\n",
        "# BMI through weight and height\n",
        "height = float(input('Enter your height in inches: '))\n",
        "weight = float(input('Enter your weight in pounds: '))\n",
        "\n",
        "heightSquared = height*height\n",
        "\n",
        "BMI = (weight/heightSquared)*703\n",
        "print('the BMI of you with weight {:.1f} and height {:.1f} is {:.1f}'.format(weight, height, BMI))"
      ],
      "metadata": {
        "colab": {
          "base_uri": "https://localhost:8080/"
        },
        "id": "AWv0KFweRWOr",
        "outputId": "b881f41b-3998-4c2e-dda9-f093d6caa99f"
      },
      "execution_count": 16,
      "outputs": [
        {
          "output_type": "stream",
          "name": "stdout",
          "text": [
            "Enter your height in inches: 63\n",
            "Enter your weight in pounds: 138\n",
            "the BMI of you with weight 138.0 and height 63.0 is 24.4\n"
          ]
        }
      ]
    }
  ]
}