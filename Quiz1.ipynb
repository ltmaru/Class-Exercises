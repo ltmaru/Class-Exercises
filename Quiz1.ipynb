{
  "nbformat": 4,
  "nbformat_minor": 0,
  "metadata": {
    "colab": {
      "provenance": [],
      "authorship_tag": "ABX9TyNsJHq/Or3jxgoT7FflQjpB",
      "include_colab_link": true
    },
    "kernelspec": {
      "name": "python3",
      "display_name": "Python 3"
    },
    "language_info": {
      "name": "python"
    }
  },
  "cells": [
    {
      "cell_type": "markdown",
      "metadata": {
        "id": "view-in-github",
        "colab_type": "text"
      },
      "source": [
        "<a href=\"https://colab.research.google.com/github/ltmaru/Class-Exercises/blob/main/Quiz1.ipynb\" target=\"_parent\"><img src=\"https://colab.research.google.com/assets/colab-badge.svg\" alt=\"Open In Colab\"/></a>"
      ]
    },
    {
      "cell_type": "code",
      "execution_count": 10,
      "metadata": {
        "colab": {
          "base_uri": "https://localhost:8080/"
        },
        "id": "ehFI2ChvjDu3",
        "outputId": "26b5d48f-5043-4f5a-e572-2562a3108039"
      },
      "outputs": [
        {
          "output_type": "stream",
          "name": "stdout",
          "text": [
            "Enter you're name: elahe\n",
            "Enter you're age: 42\n",
            "Enter you're friend's name: Chris \n",
            "Enter you're friend's age: 59\n",
            "Chris  is older than elahe\n"
          ]
        }
      ],
      "source": [
        "yourName = str(input(\"Enter you\\'re name: \"))\n",
        "yourAge = int(input(\"Enter you\\'re age: \"))\n",
        "friendName = str(input(\"Enter you\\'re friend\\'s name: \"))\n",
        "friendAge = int(input(\"Enter you\\'re friend\\'s age: \"))\n",
        "\n",
        "NameDict = {yourName: yourAge, friendName: friendAge}\n",
        "\n",
        "if NameDict[yourName] > NameDict[friendName]:\n",
        "  print(yourName, 'is older than', friendName)\n",
        "elif NameDict[yourName]< NameDict[friendName]:\n",
        "  print(friendName, 'is older than', yourName)\n",
        "else:\n",
        "  print('Awesome, you guys are the same Age!')\n",
        "\n",
        "\n"
      ]
    }
  ]
}